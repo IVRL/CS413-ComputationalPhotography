{
  "cells": [
    {
      "cell_type": "markdown",
      "metadata": {
        "id": "TB2jY0yXLW2A"
      },
      "source": [
        "# Color Science"
      ]
    },
    {
      "cell_type": "markdown",
      "metadata": {
        "id": "QqqcrNbzGLpk"
      },
      "source": [
        "In this tutorial, we will use the package `colour-science`. The following cell will install this package:"
      ]
    },
    {
      "cell_type": "code",
      "execution_count": null,
      "metadata": {
        "id": "iXW4JPB2GSJX",
        "vscode": {
          "languageId": "python"
        }
      },
      "outputs": [],
      "source": [
        "!pip install colour-science --user"
      ]
    },
    {
      "cell_type": "markdown",
      "metadata": {
        "id": "zhHwdk6TGSW-"
      },
      "source": [
        "Restart the kernel of this Notebook after installing the package. (Go to \"Runtime\" and click on \"Restart Kernel\")"
      ]
    },
    {
      "cell_type": "code",
      "execution_count": null,
      "metadata": {
        "id": "MoRpWXw2Gjsd",
        "vscode": {
          "languageId": "python"
        }
      },
      "outputs": [],
      "source": [
        "from colour.difference import delta_E_CIE1976, delta_E_CIE1994, delta_E_CIE2000"
      ]
    },
    {
      "cell_type": "code",
      "execution_count": null,
      "metadata": {
        "id": "qlc_G7qwfUPs",
        "vscode": {
          "languageId": "python"
        }
      },
      "outputs": [],
      "source": [
        "import os\n",
        "import numpy as np\n",
        "%matplotlib inline\n",
        "from matplotlib import pyplot as plt\n",
        "import math  \n",
        "import imageio"
      ]
    },
    {
      "cell_type": "code",
      "execution_count": null,
      "metadata": {
        "id": "bj-5RVJeHuoq",
        "vscode": {
          "languageId": "python"
        }
      },
      "outputs": [],
      "source": [
        "! git clone https://github.com/IVRL/CS413-ComputationalPhotography.git\n",
        "%cd \"CS413-ComputationalPhotography/Homework 1 Basics Image Formation\"\n"
      ]
    },
    {
      "cell_type": "markdown",
      "metadata": {
        "id": "MikgcK8wZyvp"
      },
      "source": [
        "# Part 1\n",
        "---------------------------\n",
        "## Color spaces CIE 1931 XYZ, sRGB and CIE L\\*a\\*b\\* (continued from HW1)\n",
        "\n",
        "This section is built on top of the exercises on Basics of Image Formation. \n",
        "\n",
        "Color can be defined as the combination of different wavelengths of light. In order to represent colors in a standard way, we use color spaces. A color space is a mathematical model that describes how colors can be represented as tuples of numbers."
      ]
    },
    {
      "cell_type": "markdown",
      "metadata": {
        "id": "kM7Fadibi_sg"
      },
      "source": [
        "### Image in CIE 1931 XYZ color space\n",
        "\n",
        "Using the color matching functions $\\bar{x}$, $\\bar{y}$ and $\\bar{z}$, we obtain the image in the CIE 1931 XYZ color space."
      ]
    },
    {
      "cell_type": "code",
      "execution_count": null,
      "metadata": {
        "id": "mCQXMXs1gY7H",
        "vscode": {
          "languageId": "python"
        }
      },
      "outputs": [],
      "source": [
        "wavelengths = np.arange(400,710,10)\n",
        "cie_xyz = np.genfromtxt(os.path.join(\"sensitivities\", 'ciexyz31_1.csv'), delimiter=',')\n",
        "xyz_sensitivity = cie_xyz[np.isin(cie_xyz[:,0], wavelengths), 1:4]\n",
        "spectral_image = np.load(os.path.join(\"reflectance_images\", 'CDREF31_persilcolour.npy'))\n",
        "illuminant = np.load(os.path.join('illuminants', 'D65.npy'))\n",
        "illuminant = illuminant[np.isin(illuminant[:,0], wavelengths), 1]\n",
        "print(wavelengths.shape, xyz_sensitivity.shape, spectral_image.shape, illuminant.shape)"
      ]
    },
    {
      "cell_type": "code",
      "execution_count": null,
      "metadata": {
        "id": "p8YGQ5Blh08h",
        "vscode": {
          "languageId": "python"
        }
      },
      "outputs": [],
      "source": [
        "rho_X = np.sum(xyz_sensitivity[:,0].reshape(-1,1,1) * \n",
        "           illuminant.reshape(-1,1,1) * \n",
        "           spectral_image, 0)\n",
        "rho_Y = np.sum(xyz_sensitivity[:,1].reshape(-1,1,1) * \n",
        "           illuminant.reshape(-1,1,1) * \n",
        "           spectral_image, 0)\n",
        "rho_Z = np.sum(xyz_sensitivity[:,2].reshape(-1,1,1) * \n",
        "           illuminant.reshape(-1,1,1) * \n",
        "           spectral_image, 0)\n",
        "\n",
        "result_XYZ = np.stack((rho_X, rho_Y, rho_Z)).transpose(1, 2, 0)\n",
        "n = 1/result_XYZ.max() # normalization factor n\n",
        "result_XYZ *= n\n",
        "assert result_XYZ.shape == (256, 336, 3)"
      ]
    },
    {
      "cell_type": "code",
      "execution_count": null,
      "metadata": {
        "id": "L4eNygKiiEXL",
        "vscode": {
          "languageId": "python"
        }
      },
      "outputs": [],
      "source": [
        "plt.figure(figsize=(21,6))\n",
        "for i, channel in enumerate(('X', 'Y', 'Z')):\n",
        "    plt.subplot(1,3,i+1)\n",
        "    plt.imshow(result_XYZ[:,:,i],  vmin=0., vmax=1., cmap='Greys_r')\n",
        "    plt.title(channel)\n",
        "\n",
        "plt.figure(figsize=(7,6))\n",
        "plt.imshow(result_XYZ, vmin=0., vmax=1.)"
      ]
    },
    {
      "cell_type": "markdown",
      "metadata": {
        "id": "TPHgpC3Jibpu"
      },
      "source": [
        "### Image in sRGB and CIE L\\*a\\*b\\* color spaces\n",
        "\n",
        "If you computed the image correctly in the CIE 1931 XYZ color space, the code below should display the image in sRGB and CIE L\\*a\\*b\\* color spaces."
      ]
    },
    {
      "cell_type": "code",
      "execution_count": null,
      "metadata": {
        "id": "2yzprV2KiNrS",
        "vscode": {
          "languageId": "python"
        }
      },
      "outputs": [],
      "source": [
        "from skimage.color import xyz2rgb, rgb2lab\n",
        "RGBresult  = xyz2rgb(result_XYZ)\n",
        "LABresult = rgb2lab(RGBresult)"
      ]
    },
    {
      "cell_type": "code",
      "execution_count": null,
      "metadata": {
        "id": "gNV78XZy_thv",
        "vscode": {
          "languageId": "python"
        }
      },
      "outputs": [],
      "source": [
        "plt.figure(figsize=(21,6))\n",
        "for i, channel in enumerate(('R', 'G', 'B')):\n",
        "    plt.subplot(1,3,i+1)\n",
        "    plt.imshow(RGBresult[:,:,i], vmin=0., vmax=1., cmap='Greys_r')\n",
        "    plt.title(channel)   \n",
        "\n",
        "plt.figure(figsize=(7,6))\n",
        "plt.imshow(RGBresult) "
      ]
    },
    {
      "cell_type": "code",
      "execution_count": null,
      "metadata": {
        "id": "XhJZ6Ip2kUso",
        "vscode": {
          "languageId": "python"
        }
      },
      "outputs": [],
      "source": [
        "plt.figure(figsize=(21,6))\n",
        "for i, channel in enumerate(('L*', 'a*', 'b*')):\n",
        "    plt.subplot(1,3,i+1)\n",
        "    plt.imshow(LABresult[:,:,i], cmap='Greys_r')\n",
        "    plt.title(channel)   "
      ]
    },
    {
      "cell_type": "markdown",
      "metadata": {
        "id": "MxbtcxKu-gkT"
      },
      "source": [
        "## Color Difference $\\Delta E^*$\n",
        "\n",
        "Color difference $\\Delta E^*$ is a metric that quantifies the perceptual distance/difference between two colors.\n",
        "\n",
        "We will now focus on the color of 2 pixel at two different locations:\n"
      ]
    },
    {
      "cell_type": "code",
      "execution_count": null,
      "metadata": {
        "id": "pux5MDlk-WcH",
        "vscode": {
          "languageId": "python"
        }
      },
      "outputs": [],
      "source": [
        "loc_1 = (225, 175)\n",
        "loc_2 = (150, 170)\n",
        "\n",
        "plt.figure(figsize=(6,6))\n",
        "\n",
        "circle1 = plt.Circle(loc_1, 10, color='r', fill=False, lw=2, edgecolor='r')\n",
        "circle2 = plt.Circle(loc_2, 10, color='g', fill=False, lw=2, edgecolor='g')\n",
        "ax = plt.gca()\n",
        "ax.add_patch(circle1)\n",
        "ax.add_patch(circle2)\n",
        "plt.imshow(RGBresult, cmap='Greys_r')\n"
      ]
    },
    {
      "cell_type": "markdown",
      "metadata": {
        "id": "tZQW2-LEB3U5"
      },
      "source": [
        "We plot a small patch of the image around those 2 locations:"
      ]
    },
    {
      "cell_type": "code",
      "execution_count": null,
      "metadata": {
        "id": "if7I5LJVAN8h",
        "vscode": {
          "languageId": "python"
        }
      },
      "outputs": [],
      "source": [
        "n = 5 # Size of the patch is 2n+1\n",
        "plt.figure(figsize=(14,6))\n",
        "for i, loc in enumerate([loc_1, loc_2]):\n",
        "    plt.subplot(1, 2, i+1)\n",
        "    x_min, x_max = loc[1]-n, loc[1]+n+1\n",
        "    y_min, y_max = loc[0]-n, loc[0]+n+1\n",
        "    plt.imshow(RGBresult[x_min:x_max, y_min:y_max, :], vmin=0., vmax=1.)\n",
        "    plt.title(f'Centered on $x$=({loc[1]}, {loc[0]})')   "
      ]
    },
    {
      "cell_type": "markdown",
      "metadata": {
        "id": "XcAXnMibCBg0"
      },
      "source": [
        "The first color difference formula, $\\Delta E^*_{ab}$, has been proposed in 1976. You can see the details and the historical progress in the following: https://en.wikipedia.org/wiki/Color_difference#CIE76\n",
        "\n",
        "This $\\Delta E^*_{ab}$ color difference is defined as the Euclidian distance of two colors in the CIE L\\*a\\*b\\* color space.\n"
      ]
    },
    {
      "cell_type": "markdown",
      "metadata": {
        "id": "s1OIb5SVDi37"
      },
      "source": [
        "Fill in the code below to compute the $\\Delta E^*_{ab}$ color difference between the two considered pixels."
      ]
    },
    {
      "cell_type": "code",
      "execution_count": null,
      "metadata": {
        "id": "9VR7lENmDijQ",
        "vscode": {
          "languageId": "python"
        }
      },
      "outputs": [],
      "source": [
        "# L_star_1, a_star_1, b_star_1 = ... Fill the code here\n",
        "# L_star_2, a_star_2, b_star_2 = ... Fill the code here\n",
        "\n",
        "deltaE = math.sqrt((L_star_1 - L_star_2)**2 + (a_star_1 - a_star_2)**2 + (b_star_1 - b_star_2)**2)\n",
        "print(deltaE)"
      ]
    },
    {
      "cell_type": "markdown",
      "metadata": {
        "id": "g_hWzdpiEr-c"
      },
      "source": [
        "The color difference should be approximately 41. Try to run again the last few cells with different pixel locations. Observe that pixels with similar colors have a lower color difference.\n",
        "\n",
        "This color difference formula $\\Delta E^*_{ab}$ has been refined in 1994 and 2000. We will now use the package `colour-science` to compute those two other color difference metrics, $\\Delta E^*_{94}$ and $\\Delta E^*_{00}$."
      ]
    },
    {
      "cell_type": "code",
      "execution_count": null,
      "metadata": {
        "id": "NeDzVGX3EFHJ",
        "vscode": {
          "languageId": "python"
        }
      },
      "outputs": [],
      "source": [
        "Lab_1 = np.array([L_star_1, a_star_1, b_star_1])\n",
        "Lab_2 = np.array([L_star_2, a_star_2, b_star_2])\n",
        "\n",
        "print(\"delta_E_CIE1976 = \", delta_E_CIE1976(Lab_1, Lab_2))\n",
        "print(\"delta_E_CIE1994 = \", delta_E_CIE1994(Lab_1, Lab_2))\n",
        "print(\"delta_E_CIE2000 = \", delta_E_CIE2000(Lab_1, Lab_2))"
      ]
    },
    {
      "cell_type": "markdown",
      "metadata": {
        "id": "su8F-3-KJb0U"
      },
      "source": [
        "Again, run the previous cells with different pixel locations and observe that pixels with similar colors have a lower color difference.\n",
        "\n",
        "Guess which colors would have the highest distance and then evaluate your hypothesis!"
      ]
    },
    {
      "cell_type": "markdown",
      "metadata": {
        "id": "4qpKgCWYJ6GS"
      },
      "source": [
        "# Part 2\n",
        "--------------------------\n",
        "## Color gamuts and CIE xy chromaticity diagram"
      ]
    },
    {
      "cell_type": "code",
      "execution_count": null,
      "metadata": {
        "id": "N-fS8YDYJ7Ev",
        "vscode": {
          "languageId": "python"
        }
      },
      "outputs": [],
      "source": [
        "%cd \"../Homework 2 Color Science\""
      ]
    },
    {
      "cell_type": "code",
      "execution_count": null,
      "metadata": {
        "id": "FDm0oXAxJ8-Y",
        "vscode": {
          "languageId": "python"
        }
      },
      "outputs": [],
      "source": [
        "from color_space_transform import color_space_transform\n",
        "from data import load_fw\n",
        "from utils import xy_inside_horseshoe"
      ]
    },
    {
      "cell_type": "markdown",
      "metadata": {
        "id": "R4F7Y2YSNIz0"
      },
      "source": [
        "### CIE xy chromaticity diagram"
      ]
    },
    {
      "cell_type": "markdown",
      "metadata": {
        "id": "lwfWrTR4XynZ"
      },
      "source": [
        "In this section, we are trying to understand and reproduce the CIE xy chromaticity diagram, widely used to represent color gamuts:\n",
        "\n",
        "<a title=\"BenRG, Public domain, via Wikimedia Commons\" href=\"https://commons.wikimedia.org/wiki/File:CIE1931xy_blank.svg\"><img width=\"256\" alt=\"CIE1931xy blank\" src=\"https://upload.wikimedia.org/wikipedia/commons/thumb/3/3b/CIE1931xy_blank.svg/256px-CIE1931xy_blank.svg.png\"></a>"
      ]
    },
    {
      "cell_type": "markdown",
      "metadata": {
        "id": "3og2ip3qOvOU"
      },
      "source": [
        "The CIE XYZ color space is a standard color space used in many industries to represent colors. It was designed to mimic the way the human eye perceives color. The $Y$ parameter in this color space is a measure of the luminance of a color. The chromaticity is specified by the two derived parameters $x$ and $y$:\n",
        "\n",
        "$$x = X / (X+Y+Z)$$\n",
        "$$y = Y / (X+Y+Z)$$\n",
        "\n",
        "The CIE xyY color space is a derived color space specified by $x$, $y$, and $Y$. It is widely used to specify colors in practice. Fill in the code below to calculate the chromaticity coordinates x and y from points in the CIE XYZ color space."
      ]
    },
    {
      "cell_type": "code",
      "execution_count": null,
      "metadata": {
        "id": "9kOFcWL-MqyK",
        "vscode": {
          "languageId": "python"
        }
      },
      "outputs": [],
      "source": [
        "def get_chromaticity_xy(XYZ):\n",
        "    \"\"\" get_chromaticity_xy(XYZ) calculates the chromaticity coordinates x and y\n",
        "    from points in the CIE XYZ color space.\n",
        "    \n",
        "    XYZ is a numpy array with 3 rows and n>=1 columns\n",
        "    Each column corresponds to one color in the CIE XYZ color space,\n",
        "    where the primaries X, Y, and Z of the colors are given in the\n",
        "    first, second, and third row respectively.\n",
        "    This function returns another numpy array xy with 2 rows and n columns.\n",
        "    \"\"\"\n",
        "    assert len(XYZ.shape) == 2 and XYZ.shape[0] == 3\n",
        "    # xyz = ... Write your code here to calculate xyz from XYZ\n",
        "    # xy = .... Write your code here to calculate xy from xyz\n",
        "    return xy"
      ]
    },
    {
      "cell_type": "markdown",
      "metadata": {
        "id": "MhOWbZ3ATC6W"
      },
      "source": [
        "The following cell loads 2 arrays, `monochromatic_cie_XYZ` and `wavelengths`.\n",
        "\n",
        "`wavelengths` contains some wavelength values in nanometers, and `monochromatic_cie_XYZ` contains points in the CIE XYZ color space. Those points represents the color of monochromatic responses (i.e., single wavelength) with those specified wavelengths."
      ]
    },
    {
      "cell_type": "code",
      "execution_count": null,
      "metadata": {
        "id": "t-xuvVBWQDKZ",
        "vscode": {
          "languageId": "python"
        }
      },
      "outputs": [],
      "source": [
        "monochromatic_cie_XYZ, wavelengths = load_fw(\"xyz-cmfs\")\n",
        "print(wavelengths.shape, monochromatic_cie_XYZ.shape)\n",
        "print(wavelengths[:5])\n",
        "print(monochromatic_cie_XYZ[:, :5])"
      ]
    },
    {
      "cell_type": "markdown",
      "metadata": {
        "id": "fXJjBrxmUrLp"
      },
      "source": [
        "Use the function `get_chromaticity_xy` to obtain the monochromatic responses in the $xy$ space."
      ]
    },
    {
      "cell_type": "code",
      "execution_count": null,
      "metadata": {
        "id": "wmhiQcHFVGlM",
        "vscode": {
          "languageId": "python"
        }
      },
      "outputs": [],
      "source": [
        "monochromatic_cie_xy = get_chromaticity_xy(monochromatic_cie_XYZ) #...\n",
        "assert monochromatic_cie_xy.shape == (2, 471)"
      ]
    },
    {
      "cell_type": "markdown",
      "metadata": {
        "id": "TxNGw6FpYi5i"
      },
      "source": [
        "The cell below should plot the monochromatic responses in the $xy$ space:"
      ]
    },
    {
      "cell_type": "code",
      "execution_count": null,
      "metadata": {
        "id": "On3gl3R2Vhwz",
        "vscode": {
          "languageId": "python"
        }
      },
      "outputs": [],
      "source": [
        "def plot_horseshoe_curve(ax, xy, wavelengths):\n",
        "    \"\"\"Plot the horseshoe curve with wavelength ticks alongside.\"\"\"\n",
        "    ax.plot(xy[0,:], xy[1,:], color='k', linewidth=3)\n",
        "\n",
        "    small_ticks = np.arange(400, 700, 5)\n",
        "    large_ticks = np.arange(460, 640, 20)\n",
        "    small_tick_size = 0.01\n",
        "    large_tick_size = 0.02\n",
        "    text_distance = 0.04\n",
        "    tick_indices = [i for i in range(len(wavelengths)) \\\n",
        "                    if (wavelengths[i] in small_ticks) or (wavelengths[i] in large_ticks)]\n",
        "    for i in tick_indices:\n",
        "        # Compute tick direction.\n",
        "        x,y = xy[0,i], xy[1,i]\n",
        "        xp,yp = xy[0,i-1], xy[1,i-1]\n",
        "        xn,yn = xy[0,i+1], xy[1,i+1]\n",
        "        angle = np.arctan2(yn-yp, xn-xp) + np.pi / 2\n",
        "        # Plot tick according to tick size.\n",
        "        ts = (wavelengths[i] in large_ticks) and large_tick_size or small_tick_size\n",
        "        ax.plot([x, x + ts*np.cos(angle)], [y, y + ts*np.sin(angle)], 'k')\n",
        "        # Draw texts.\n",
        "        if wavelengths[i] in large_ticks:\n",
        "            td = text_distance\n",
        "            ax.text(x+td*np.cos(angle), y+td*np.sin(angle), str(int(wavelengths[i])),\n",
        "                    ha=\"center\", va=\"center\")\n",
        "\n",
        "\n",
        "ax = plt.figure(figsize=(7,7)).gca()\n",
        "plot_horseshoe_curve(ax, monochromatic_cie_xy, wavelengths)\n",
        "ax.set_xlabel('x')\n",
        "ax.set_ylabel('y')\n",
        "ax.set_aspect(\"equal\")\n",
        "ax.set_xlim(-0.07, 0.75)\n",
        "ax.set_ylim(-0.03, 0.9)\n",
        "plt.show()"
      ]
    },
    {
      "cell_type": "markdown",
      "metadata": {
        "id": "PrlEmswcfiV3"
      },
      "source": [
        "We create an image representing all possible $(x, y)$ values. This image is first created in the xyY color space with unit luminance ($Y = 1$ for all pixels)."
      ]
    },
    {
      "cell_type": "code",
      "execution_count": null,
      "metadata": {
        "id": "KFgejHsZfcV1",
        "vscode": {
          "languageId": "python"
        }
      },
      "outputs": [],
      "source": [
        "size = 1001\n",
        "horseshoe_xyY = np.zeros((size, size, 3))\n",
        "(xx,yy) = np.meshgrid(np.linspace(0, 1, size),\n",
        "                      np.linspace(1, 0, size))\n",
        "horseshoe_xyY[:,:,0] = xx\n",
        "horseshoe_xyY[:,:,1] = yy\n",
        "horseshoe_xyY[:,:,2] = 1\n",
        "\n",
        "plt.figure(figsize=(21,6))\n",
        "for i, channel in enumerate(('x', 'y', 'Y')):\n",
        "    plt.subplot(1,3,i+1)\n",
        "    plt.imshow(horseshoe_xyY[:,:,i], vmin=0., vmax=1., cmap='Greys_r', extent=[0, 1, 0, 1])\n",
        "    plt.xlabel('x')\n",
        "    plt.ylabel('y')\n",
        "    plt.title(channel)    "
      ]
    },
    {
      "cell_type": "markdown",
      "metadata": {
        "id": "sP4VBk1jhJUS"
      },
      "source": [
        "The colors that are outside of the horseshoe curve cannot be reached by combination of different wavelengths of light, hence, we remove them."
      ]
    },
    {
      "cell_type": "code",
      "execution_count": null,
      "metadata": {
        "id": "FBHCc4YmgcjZ",
        "vscode": {
          "languageId": "python"
        }
      },
      "outputs": [],
      "source": [
        "inside = xy_inside_horseshoe(xx, yy, monochromatic_cie_xy.T)\n",
        "for c in range(3):\n",
        "    horseshoe_c = horseshoe_xyY[:,:,c]\n",
        "    horseshoe_c[~inside] = 0.0\n",
        "    horseshoe_xyY[:,:,c] = horseshoe_c\n",
        "\n",
        "plt.figure(figsize=(21,6))\n",
        "for i, channel in enumerate(('x', 'y', 'Y')):\n",
        "    plt.subplot(1,3,i+1)\n",
        "    plt.imshow(horseshoe_xyY[:,:,i], vmin=0., vmax=1., cmap='Greys_r', extent=[0, 1, 0, 1])\n",
        "    plt.xlabel('x')\n",
        "    plt.ylabel('y')\n",
        "    plt.title(channel)    "
      ]
    },
    {
      "cell_type": "markdown",
      "metadata": {
        "id": "QwD4cQBXlnUI"
      },
      "source": [
        "We then transform the image from xyY to sRGB color space to display it."
      ]
    },
    {
      "cell_type": "code",
      "execution_count": null,
      "metadata": {
        "id": "IvB9VmZ5TMiq",
        "vscode": {
          "languageId": "python"
        }
      },
      "outputs": [],
      "source": [
        "# Convert the image into linear sRGB color space.\n",
        "horseshoe_XYZ = color_space_transform(horseshoe_xyY, \"CIE-xyY\", \"CIE-XYZ\")\n",
        "horseshoe_sRGB_linear = color_space_transform(\n",
        "    horseshoe_XYZ, \"CIE-XYZ\", \"sRGB-linear\")\n",
        "\n",
        "# Convert to nonlinear sRGB data.\n",
        "horseshoe_sRGB = color_space_transform(\n",
        "    horseshoe_sRGB_linear, \"sRGB-linear\", \"sRGB\")\n",
        "horseshoe_sRGB[horseshoe_sRGB<0] = 0.0\n",
        "horseshoe_sRGB[horseshoe_sRGB>1] = 1.0"
      ]
    },
    {
      "cell_type": "code",
      "execution_count": null,
      "metadata": {
        "id": "lP4evFEcS4dn",
        "vscode": {
          "languageId": "python"
        }
      },
      "outputs": [],
      "source": [
        "print(\"horseshoe_XYZ\")\n",
        "plt.figure(figsize=(21,6))\n",
        "for i, channel in enumerate(('X', 'Y', 'Z')):\n",
        "    plt.subplot(1,3,i+1)\n",
        "    plt.imshow(horseshoe_XYZ[:, :, i], vmin=0., vmax=1., cmap='Greys_r', extent=[0, 1, 0, 1])\n",
        "    plt.xlabel('x')\n",
        "    plt.ylabel('y')\n",
        "    plt.title(channel)\n",
        "plt.show()\n",
        "\n",
        "print(\"horseshoe_sRGB_linear\")\n",
        "plt.figure(figsize=(21,6))\n",
        "for i, channel in enumerate(('R', 'G', 'B')):\n",
        "    plt.subplot(1,3,i+1)\n",
        "    plt.imshow(horseshoe_sRGB_linear[:, :, i], vmin=0., vmax=1., cmap='Greys_r', extent=[0, 1, 0, 1])\n",
        "    plt.xlabel('x')\n",
        "    plt.ylabel('y')\n",
        "    plt.title(channel)\n",
        "plt.show()\n",
        "\n",
        "print(\"horseshoe_sRGB\")\n",
        "plt.figure(figsize=(21,6))\n",
        "for i, channel in enumerate(('R', 'G', 'B')):\n",
        "    plt.subplot(1,3,i+1)\n",
        "    plt.imshow(horseshoe_sRGB[:, :, i], vmin=0., vmax=1., cmap='Greys_r', extent=[0, 1, 0, 1])\n",
        "    plt.xlabel('x')\n",
        "    plt.ylabel('y')\n",
        "    plt.title(channel) \n",
        "\n",
        "ax = plt.figure(figsize=(7,7)).gca()\n",
        "ax.imshow(horseshoe_sRGB[:, :, :], extent=[0, 1, 0, 1])\n",
        "ax.set_xlabel('x')\n",
        "ax.set_ylabel('y')\n",
        "ax.set_xlim(0, 0.75)\n",
        "ax.set_ylim(0, 0.9)\n",
        "plt.show()"
      ]
    },
    {
      "cell_type": "markdown",
      "metadata": {
        "id": "GDLklI18TdNS"
      },
      "source": [
        "Question: Do you see any issue in this color gamut? What could be the reason for it? (HINT: next cell)\n",
        "\n",
        "Your answer: ?"
      ]
    },
    {
      "cell_type": "code",
      "execution_count": null,
      "metadata": {
        "id": "CBZubJyEhp2P",
        "vscode": {
          "languageId": "python"
        }
      },
      "outputs": [],
      "source": [
        "def normalize_image_by_max_color(image):\n",
        "    \"\"\"Normalize each pixel of an image by the maximum color channel. The input\n",
        "    image will be modified in place.\"\"\"\n",
        "    image_max = np.max(image[:,:,:3], axis = 2)\n",
        "    for c in range(3):\n",
        "        image_c = image[:,:,c]\n",
        "        image_c[image_max>0] = image_c[image_max>0] / image_max[image_max>0]\n",
        "        image[:,:,c] = image_c\n",
        "    return image\n",
        "\n",
        "# Convert the image into linear sRGB color space.\n",
        "horseshoe_XYZ = color_space_transform(horseshoe_xyY, \"CIE-xyY\", \"CIE-XYZ\")\n",
        "horseshoe_sRGB_linear = color_space_transform(\n",
        "    horseshoe_XYZ, \"CIE-XYZ\", \"sRGB-linear\")\n",
        "\n",
        "# Normalizing the image by the maximum color component \n",
        "horseshoe_sRGB_linear = normalize_image_by_max_color(horseshoe_sRGB_linear)\n",
        "\n",
        "# Convert to nonlinear sRGB data.\n",
        "horseshoe_sRGB = color_space_transform(\n",
        "    horseshoe_sRGB_linear, \"sRGB-linear\", \"sRGB\")\n",
        "horseshoe_sRGB[horseshoe_sRGB<0] = 0.0\n",
        "horseshoe_sRGB[horseshoe_sRGB>1] = 1.0"
      ]
    },
    {
      "cell_type": "code",
      "execution_count": null,
      "metadata": {
        "id": "ehLXqQF-Ud_0",
        "vscode": {
          "languageId": "python"
        }
      },
      "outputs": [],
      "source": [
        "print(\"horseshoe_XYZ\")\n",
        "plt.figure(figsize=(21,6))\n",
        "for i, channel in enumerate(('X', 'Y', 'Z')):\n",
        "    plt.subplot(1,3,i+1)\n",
        "    plt.imshow(horseshoe_XYZ[:, :, i], vmin=0., vmax=1., cmap='Greys_r', extent=[0, 1, 0, 1])\n",
        "    plt.xlabel('x')\n",
        "    plt.ylabel('y')\n",
        "    plt.title(channel)\n",
        "plt.show()\n",
        "\n",
        "print(\"horseshoe_sRGB_linear\")\n",
        "plt.figure(figsize=(21,6))\n",
        "for i, channel in enumerate(('R', 'G', 'B')):\n",
        "    plt.subplot(1,3,i+1)\n",
        "    plt.imshow(horseshoe_sRGB_linear[:, :, i], vmin=0., vmax=1., cmap='Greys_r', extent=[0, 1, 0, 1])\n",
        "    plt.xlabel('x')\n",
        "    plt.ylabel('y')\n",
        "    plt.title(channel)\n",
        "plt.show()\n",
        "\n",
        "print(\"horseshoe_sRGB\")\n",
        "plt.figure(figsize=(21,6))\n",
        "for i, channel in enumerate(('R', 'G', 'B')):\n",
        "    plt.subplot(1,3,i+1)\n",
        "    plt.imshow(horseshoe_sRGB[:, :, i], vmin=0., vmax=1., cmap='Greys_r', extent=[0, 1, 0, 1])\n",
        "    plt.xlabel('x')\n",
        "    plt.ylabel('y')\n",
        "    plt.title(channel) \n",
        "\n",
        "ax = plt.figure(figsize=(7,7)).gca()\n",
        "ax.imshow(horseshoe_sRGB[:, :, :], extent=[0, 1, 0, 1])\n",
        "ax.set_xlabel('x')\n",
        "ax.set_ylabel('y')\n",
        "ax.set_xlim(0, 0.75)\n",
        "ax.set_ylim(0, 0.9)\n",
        "plt.show()"
      ]
    },
    {
      "cell_type": "markdown",
      "metadata": {
        "id": "RjpGAPmLmPex"
      },
      "source": [
        "We now replace the black pixels by white ones:"
      ]
    },
    {
      "cell_type": "code",
      "execution_count": null,
      "metadata": {
        "id": "CV0NZ6Aciaqo",
        "vscode": {
          "languageId": "python"
        }
      },
      "outputs": [],
      "source": [
        "invalid_pixels = np.max(horseshoe_sRGB, axis=-1) == 0.\n",
        "horseshoe_sRGB[invalid_pixels, :] = 1.\n",
        "\n",
        "ax = plt.figure(figsize=(7,7)).gca()\n",
        "ax.imshow(horseshoe_sRGB[:, :, :], extent=[0,1,0,1])\n",
        "ax.set_xlabel('x')\n",
        "ax.set_ylabel('y')\n",
        "ax.set_aspect(\"equal\")\n",
        "ax.set_xlim(0, 0.75)\n",
        "ax.set_ylim(0, 0.9)\n",
        "plt.show()"
      ]
    },
    {
      "cell_type": "markdown",
      "metadata": {
        "id": "LcIcQHi6mdAd"
      },
      "source": [
        "We emphasize the points where the plane cuts the monochromatic spectra-response, by overlapping the 2 previously computed parts:"
      ]
    },
    {
      "cell_type": "code",
      "execution_count": null,
      "metadata": {
        "id": "hvjLWuBcaZN0",
        "vscode": {
          "languageId": "python"
        }
      },
      "outputs": [],
      "source": [
        "ax = plt.figure(figsize=(7,7)).gca()\n",
        "ax.imshow(horseshoe_sRGB[:, :, :], extent=[0,1,0,1])\n",
        "plot_horseshoe_curve(ax, monochromatic_cie_xy, wavelengths)\n",
        "ax.set_xlabel('x')\n",
        "ax.set_ylabel('y')\n",
        "ax.set_aspect(\"equal\")\n",
        "ax.set_xlim(-0.07, 0.75)\n",
        "ax.set_ylim(-0.03, 0.9)\n",
        "plt.show()"
      ]
    },
    {
      "cell_type": "markdown",
      "metadata": {
        "id": "nV-HXbxem4lb"
      },
      "source": [
        "### sRGB and Adobe RGB color spaces\n",
        "\n",
        "In the following we'll superimpose the gamuts of two color spaces on the CIE xy."
      ]
    },
    {
      "cell_type": "code",
      "execution_count": null,
      "metadata": {
        "id": "htfzYkj6L7cS",
        "vscode": {
          "languageId": "python"
        }
      },
      "outputs": [],
      "source": [
        "def plot_triangle(ax, tri, *args, **kw):\n",
        "    \"\"\"Plot a triangle in the axis.\"\"\"\n",
        "    assert tri.shape == (2,3)\n",
        "    ax.plot((tri[0,0], tri[0,1], tri[0,2], tri[0,0]),\n",
        "            (tri[1,0], tri[1,1], tri[1,2], tri[1,0]), *args, **kw)"
      ]
    },
    {
      "cell_type": "code",
      "execution_count": null,
      "metadata": {
        "id": "lmqrCBvhLIBS",
        "vscode": {
          "languageId": "python"
        }
      },
      "outputs": [],
      "source": [
        "from data import srgb_red_xyz, srgb_green_xyz, srgb_blue_xyz\n",
        "from data import adobe_red_xy, adobe_green_xy, adobe_blue_xy\n",
        "from data import p3_red_xy, p3_green_xy, p3_blue_xy\n",
        "\n",
        "ax = plt.figure(figsize=(7,7)).gca()\n",
        "ax.imshow(horseshoe_sRGB[:, :, :], extent=[0,1,0,1])\n",
        "plot_horseshoe_curve(ax, monochromatic_cie_xy, wavelengths)\n",
        "\n",
        "# Plot the sRGB triangle.\n",
        "srgb_triangle_xyz = np.array([srgb_red_xyz, srgb_green_xyz, srgb_blue_xyz]).T\n",
        "plot_triangle(ax, srgb_triangle_xyz[:2,:], color=\"b\", linewidth=2)\n",
        "ax.text(0.32, 0.5, \"sRGB\", ha=\"center\", va=\"center\", color=\"b\")\n",
        "\n",
        "# Plot Adobe RGB (1998) triangle.\n",
        "adobe_triangle_xy = np.array([adobe_red_xy, adobe_green_xy, adobe_blue_xy]).T\n",
        "plot_triangle(ax, adobe_triangle_xy, \"--r\", linewidth=2)\n",
        "ax.text(0.11, 0.5, \"Adobe RGB\\n(1998)\", ha=\"center\", va=\"center\", color=\"r\")\n",
        "\n",
        "# Plot the P3 triangle.\n",
        "p3_triangle_xy = np.array([p3_red_xy, p3_green_xy, p3_blue_xy]).T\n",
        "plot_triangle(ax, p3_triangle_xy[:2,:], color=\"b\", linewidth=2)\n",
        "ax.text(0.27, 0.72, \"P3 (Display)\", ha=\"center\", va=\"center\", color=\"purple\")\n",
        "\n",
        "ax.set_xlabel('x')\n",
        "ax.set_ylabel('y')\n",
        "ax.set_aspect(\"equal\")\n",
        "ax.set_xlim(-0.07, 0.75)\n",
        "ax.set_ylim(-0.03, 0.9)\n",
        "plt.show()"
      ]
    },
    {
      "cell_type": "markdown",
      "metadata": {
        "id": "JgNPe8xzoWgA"
      },
      "source": [
        "### Chromaticities of images in different color spaces"
      ]
    },
    {
      "cell_type": "markdown",
      "metadata": {
        "id": "YrU1_eCNgp_w"
      },
      "source": [
        "Take a look at this website to see images at different color spaces. Is your monitor able to show the difference between the images?\n",
        "\n",
        "https://webkit.org/blog-files/color-gamut/"
      ]
    },
    {
      "cell_type": "code",
      "execution_count": null,
      "metadata": {
        "id": "AEGkwW5_2Qcb",
        "vscode": {
          "languageId": "python"
        }
      },
      "outputs": [],
      "source": [
        "# The dictionnary indicates the link to download the image and the original color space of the image\n",
        "img_name2url = {\n",
        "\n",
        "    \"Shoes-sRGB\": \"https://webkit.org/blog-files/color-gamut/Shoes-sRGB.jpg\",\n",
        "    \"Shoes-AdobeRGB\": \"https://webkit.org/blog-files/color-gamut/Shoes-AdobeRGB.jpg\",\n",
        "    \n",
        "    \"Iceland-sRGB\": \"https://webkit.org/blog-files/color-gamut/Iceland-sRGB.jpg\",\n",
        "    \"Iceland-P3\": \"https://webkit.org/blog-files/color-gamut/Iceland-P3.jpg\",\n",
        "\n",
        "    \"Logo-sRGB\": \"https://webkit.org/blog-files/color-gamut/Webkit-logo-sRGB.png\",\n",
        "    \"Logo-P3\": \"https://webkit.org/blog-files/color-gamut/Webkit-logo-P3.png\",\n",
        "\n",
        "    \"Rose-sRGB\": \"https://webkit.org/blog-files/color-gamut/Rose-sRGB.jpg\",\n",
        "    \"Rose-AdobeRGB\": \"https://webkit.org/blog-files/color-gamut/Rose-AdobeRGB.jpg\",\n",
        "}\n",
        "\n",
        "# Matrices to convert various RGB color spaces to XYZ\n",
        "# Mostly from http://www.brucelindbloom.com/index.html?Eqn_RGB_XYZ_Matrix.html\n",
        "matrices_RGB_to_XYZ = {\n",
        "    \"AdobeRGB\":  np.array([\n",
        "        [0.5767309, 0.1855540, 0.1881852],\n",
        "        [0.2973769, 0.6273491, 0.0752741],\n",
        "        [0.0270343, 0.0706872, 0.9911085],\n",
        "    ]),\n",
        "    \"sRGB\": np.array([\n",
        "        [0.4124564, 0.3575761, 0.1804375],\n",
        "        [0.2126729, 0.7151522, 0.0721750],\n",
        "        [0.0193339, 0.1191920, 0.9503041],\n",
        "    ]), \n",
        "    \"P3\": np.array([\n",
        "        [0.45506, 0.30024, 0.1804375],\n",
        "        [0.21269, 0.70939, 0.0721750],\n",
        "        [0.00052, 0.0552, 0.9503041],\n",
        "    ]),\n",
        "}\n"
      ]
    },
    {
      "cell_type": "markdown",
      "metadata": {
        "id": "CX4US24kRobu"
      },
      "source": [
        "Let's download the image in the sRGB color space."
      ]
    },
    {
      "cell_type": "code",
      "execution_count": null,
      "metadata": {
        "id": "g712J4QMz9pE",
        "vscode": {
          "languageId": "python"
        }
      },
      "outputs": [],
      "source": [
        "target_img_key =  \"Shoes-sRGB\"\n",
        "image_name, colorspace = target_img_key.split(\"-\")\n",
        "\n",
        "img_url = img_name2url[target_img_key]\n",
        "matrix_RGB_to_XYZ = matrices_RGB_to_XYZ[colorspace]\n",
        "\n",
        "im_RGB = imageio.imread(img_url)\n",
        "\n",
        "# Now we need to undo the gamma correction:\n",
        "if colorspace in [\"sRGB\", \"P3\"]:\n",
        "  im_RGB = color_space_transform(im_RGB, \"sRGB\", \"sRGB-linear\")\n",
        "elif colorspace == \"AdobeRGB\":\n",
        "  im_RGB = np.power(im_RGB,  2.2)\n",
        "else:\n",
        "  pass\n",
        "\n",
        "\n",
        "print(im_RGB.shape)"
      ]
    },
    {
      "cell_type": "markdown",
      "metadata": {
        "id": "Q0LgIcRyT2uR"
      },
      "source": [
        "Now let's convert the downloaded image from its original color space to xyz  "
      ]
    },
    {
      "cell_type": "code",
      "execution_count": null,
      "metadata": {
        "id": "FXRHs1NZwlmM",
        "vscode": {
          "languageId": "python"
        }
      },
      "outputs": [],
      "source": [
        "im_XYZ = np.einsum(\"ij, xyj -> xyi\", matrix_RGB_to_XYZ, im_RGB)\n",
        "print(im_XYZ.shape)\n",
        "\n",
        "# We add a small value in the denominator to avoid devision by zero.\n",
        "im_xyz = im_XYZ / (np.sum(im_XYZ, axis = 2, keepdims = True) + 1e-8) \n",
        "print(im_xyz.shape)\n",
        "\n",
        "im_xy = im_xyz[:, :, :2]\n",
        "print(im_xy.shape)\n",
        "\n",
        "pixel_colors = im_xy.reshape(-1, 2)\n",
        "print(pixel_colors.shape)"
      ]
    },
    {
      "cell_type": "markdown",
      "metadata": {
        "id": "qVL74cedVXVx"
      },
      "source": [
        "Now we can scatter the xy component of all the pixels in the image inside the color gamut. "
      ]
    },
    {
      "cell_type": "code",
      "execution_count": null,
      "metadata": {
        "id": "igmTQMgFwGyy",
        "vscode": {
          "languageId": "python"
        }
      },
      "outputs": [],
      "source": [
        "ax = plt.figure(figsize=(14,14)).gca()\n",
        "\n",
        "ax.imshow(horseshoe_sRGB[:, :, :], extent=[0,1,0,1])\n",
        "plot_horseshoe_curve(ax, monochromatic_cie_xy, wavelengths)\n",
        "\n",
        "ax.scatter(pixel_colors[:, 0], pixel_colors[:, 1], marker=\"+\", color='black' )\n",
        "\n",
        "# Plot the sRGB triangle.\n",
        "srgb_triangle_xyz = np.array([srgb_red_xyz, srgb_green_xyz, srgb_blue_xyz]).T\n",
        "plot_triangle(ax, srgb_triangle_xyz[:2,:], color=\"b\", linewidth=2)\n",
        "ax.text(0.31, 0.55, \"sRGB\", ha=\"center\", va=\"center\", color=\"b\")\n",
        "\n",
        "# Plot Adobe RGB (1998) triangle.\n",
        "adobe_triangle_xy = np.array([adobe_red_xy, adobe_green_xy, adobe_blue_xy]).T\n",
        "plot_triangle(ax, adobe_triangle_xy, \"--r\", linewidth=2)\n",
        "ax.text(0.15, 0.5, \"Adobe RGB\\n(1998)\", ha=\"center\", va=\"center\", color=\"r\")\n",
        "\n",
        "\n",
        "# Plot the P3 triangle.\n",
        "p3_triangle_xy = np.array([p3_red_xy, p3_green_xy, p3_blue_xy]).T\n",
        "plot_triangle(ax, p3_triangle_xy[:2,:], color=\"b\", linewidth=2)\n",
        "ax.text(0.27, 0.72, \"P3 (Display)\", ha=\"center\", va=\"center\", color=\"purple\")\n",
        "\n",
        "\n",
        "ax.set_xlabel('x')\n",
        "ax.set_ylabel('y')\n",
        "ax.set_aspect(\"equal\")\n",
        "ax.set_xlim(-0.07, 0.75)\n",
        "ax.set_ylim(-0.03, 0.9)\n",
        "plt.show()"
      ]
    }
  ],
  "metadata": {
    "colab": {
      "provenance": [],
      "toc_visible": true
    },
    "kernelspec": {
      "display_name": "Python 3",
      "name": "python3"
    }
  },
  "nbformat": 4,
  "nbformat_minor": 0
}
